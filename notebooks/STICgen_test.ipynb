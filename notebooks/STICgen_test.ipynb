{
 "cells": [
  {
   "cell_type": "code",
   "execution_count": 1,
   "id": "15d2c618-e668-47a8-b438-83e98dcd2f56",
   "metadata": {
    "ExecuteTime": {
     "end_time": "2025-08-25T14:48:19.011932Z",
     "start_time": "2025-08-25T14:48:19.008029Z"
    },
    "execution": {
     "iopub.execute_input": "2025-08-22T20:27:15.289696Z",
     "iopub.status.busy": "2025-08-22T20:27:15.289509Z",
     "iopub.status.idle": "2025-08-22T20:27:15.292292Z",
     "shell.execute_reply": "2025-08-22T20:27:15.291859Z",
     "shell.execute_reply.started": "2025-08-22T20:27:15.289681Z"
    }
   },
   "outputs": [],
   "source": [
    "import sys\n",
    "from pathlib import Path\n",
    "\n",
    "STICkit_path = Path(\"..\").resolve()\n",
    "\n",
    "sys.path.append(STICkit_path)"
   ]
  },
  {
   "cell_type": "code",
   "execution_count": 2,
   "id": "f492705c-fcba-4858-b8ba-fa51ebe80bb3",
   "metadata": {
    "ExecuteTime": {
     "end_time": "2025-08-25T14:48:23.112462Z",
     "start_time": "2025-08-25T14:48:22.808044Z"
    },
    "execution": {
     "iopub.execute_input": "2025-08-22T20:27:24.303021Z",
     "iopub.status.busy": "2025-08-22T20:27:24.302838Z",
     "iopub.status.idle": "2025-08-22T20:27:24.655964Z",
     "shell.execute_reply": "2025-08-22T20:27:24.655441Z",
     "shell.execute_reply.started": "2025-08-22T20:27:24.303008Z"
    }
   },
   "outputs": [],
   "source": [
    "from stickit.pipeline import stic_generation"
   ]
  },
  {
   "cell_type": "code",
   "execution_count": 3,
   "id": "e9a423dd-99a0-4665-a6cb-84990daf7250",
   "metadata": {
    "ExecuteTime": {
     "end_time": "2025-08-25T14:48:30.995206Z",
     "start_time": "2025-08-25T14:48:30.991647Z"
    },
    "execution": {
     "iopub.execute_input": "2025-08-22T20:54:43.433187Z",
     "iopub.status.busy": "2025-08-22T20:54:43.433041Z",
     "iopub.status.idle": "2025-08-22T20:54:43.435743Z",
     "shell.execute_reply": "2025-08-22T20:54:43.435434Z",
     "shell.execute_reply.started": "2025-08-22T20:54:43.433178Z"
    }
   },
   "outputs": [],
   "source": [
    "stic_test_set = [\n",
    "    # --- STEREOISOMERS ---\n",
    "    # >2 stereoisomers (two stereocenters → RR/SS + meso)\n",
    "    (\"CC(Cl)C(Cl)C\", \"2,3-dichlorobutane\"),\n",
    "    # E/Z alkene stereochemistry\n",
    "    (\"FC=CF\", \"1,2-difluoroethene\"),\n",
    "    # Single stereocenter (simple check)\n",
    "    (\"CCC(O)C\", \"2-butanol\"),\n",
    "    # --- TAUTOMERS ---\n",
    "    # Multiple ring tautomers (3 N–H positions)\n",
    "    (\"[nH]1nccn1\", \"1,2,4-triazole\"),\n",
    "    # Keto–enol system (classic)\n",
    "    (\"CC(=O)CH2C(=O)C\", \"acetylacetone (2,4-pentanedione)\"),\n",
    "    # Barbituric acid (keto–enol/amide–iminol network)\n",
    "    (\"O=C1NC(=O)NC(=O)N1\", \"barbituric acid\"),\n",
    "    # --- IONIZATION STATES ---\n",
    "    # Polybasic amine: 0/+1/+2 around pH 5–9\n",
    "    (\"NCCN\", \"ethylenediamine\"),\n",
    "    # Two basic sites in a ring: 0/+1/+2 around pH 5–9\n",
    "    (\"N1CCNCC1\", \"piperazine\"),\n",
    "    # Polyprotic acid (0/–1/–2/–3; between pH 5–9 mainly –1/–2)\n",
    "    (\"O=P(O)(O)O\", \"phosphoric acid\"),\n",
    "    # Zwitterion behavior near neutral pH\n",
    "    (\"NCC(=O)O\", \"glycine\"),\n",
    "    # Aromatic base with ring protonation\n",
    "    (\"c1ccncc1\", \"pyridine\"),\n",
    "    # --- CONFORMERS ---\n",
    "    # Ring chair/boat\n",
    "    (\"C1CCCCC1\", \"cyclohexane\"),\n",
    "    # Ring flip with substituent (axial/equatorial)\n",
    "    (\"CC1CCCCC1\", \"methylcyclohexane\"),\n",
    "    # Simple torsional (anti/gauche)\n",
    "    (\"CCCC\", \"n-butane\"),\n",
    "    # s-cis / s-trans conjugated chain conformers\n",
    "    (\"C=CC=C\", \"1,3-butadiene\"),\n",
    "    # --- COMBINED CHALLENGES ---\n",
    "    # Stereochemistry + ring conformers (cis/trans 1,2-substituted ring + flips)\n",
    "    (\"CC1CCCCC1C\", \"1,2-dimethylcyclohexane\"),\n",
    "    # Tautomers + ionization (azole ring, basic/neutral tautomers)\n",
    "    (\"c1ncc[nH]1\", \"imidazole\"),\n",
    "    # Tautomers + ionization + sidechain flexibility\n",
    "    (\"NCC(C(=O)O)Cc1cncn1\", \"histidine (neutral form, side chain)\"),\n",
    "    # Phenolic acid (deprotonation + intramolecular H-bond conformers)\n",
    "    (\"Oc1ccccc1C(=O)O\", \"salicylic acid\"),\n",
    "]"
   ]
  },
  {
   "cell_type": "code",
   "execution_count": 5,
   "id": "c7270abf-849c-447c-8a47-a1e0f40b0cfd",
   "metadata": {
    "ExecuteTime": {
     "end_time": "2025-08-25T14:49:28.296851Z",
     "start_time": "2025-08-25T14:49:28.294822Z"
    },
    "execution": {
     "iopub.execute_input": "2025-08-22T21:06:09.183222Z",
     "iopub.status.busy": "2025-08-22T21:06:09.182988Z",
     "iopub.status.idle": "2025-08-22T21:06:09.185483Z",
     "shell.execute_reply": "2025-08-22T21:06:09.185122Z",
     "shell.execute_reply.started": "2025-08-22T21:06:09.183195Z"
    }
   },
   "outputs": [],
   "source": [
    "config = {\n",
    "    \"chem\": {\"max_ti_iters\": 5, \"ph\": 7, \"ph_delta\": 2},\n",
    "    \"mopac\": {\"enable\": True, \"method\": \"PM7\"},\n",
    "    \"parallel\": {\"backend\": \"multiprocessing\"},\n",
    "    \"io\": {\"output_dir\": \".\", \"write_sdf\": True},\n",
    "}"
   ]
  },
  {
   "cell_type": "code",
   "execution_count": 8,
   "id": "e4eef584-3869-4ee9-9664-f4873dcdf13b",
   "metadata": {
    "ExecuteTime": {
     "end_time": "2025-08-25T14:58:17.687313Z",
     "start_time": "2025-08-25T14:55:26.645143Z"
    },
    "execution": {
     "iopub.execute_input": "2025-08-22T21:06:20.394987Z",
     "iopub.status.busy": "2025-08-22T21:06:20.394861Z",
     "iopub.status.idle": "2025-08-22T21:06:20.562065Z",
     "shell.execute_reply": "2025-08-22T21:06:20.561288Z",
     "shell.execute_reply.started": "2025-08-22T21:06:20.394978Z"
    }
   },
   "outputs": [
    {
     "ename": "AttributeError",
     "evalue": "Can't pickle local object 'stic_generation.<locals>.<lambda>'",
     "output_type": "error",
     "traceback": [
      "\u001b[31m---------------------------------------------------------------------------\u001b[39m",
      "\u001b[31m_RemoteTraceback\u001b[39m                          Traceback (most recent call last)",
      "\u001b[31m_RemoteTraceback\u001b[39m: \n\"\"\"\nTraceback (most recent call last):\n  File \"/usr/lib/python3.11/multiprocessing/queues.py\", line 244, in _feed\n    obj = _ForkingPickler.dumps(obj)\n          ^^^^^^^^^^^^^^^^^^^^^^^^^^\n  File \"/usr/lib/python3.11/multiprocessing/reduction.py\", line 51, in dumps\n    cls(buf, protocol).dump(obj)\nAttributeError: Can't pickle local object 'stic_generation.<locals>.<lambda>'\n\"\"\"",
      "\nThe above exception was the direct cause of the following exception:\n",
      "\u001b[31mAttributeError\u001b[39m                            Traceback (most recent call last)",
      "\u001b[36mCell\u001b[39m\u001b[36m \u001b[39m\u001b[32mIn[8]\u001b[39m\u001b[32m, line 1\u001b[39m\n\u001b[32m----> \u001b[39m\u001b[32m1\u001b[39m result = \u001b[43mstic_generation\u001b[49m\u001b[43m(\u001b[49m\u001b[43mmolecules\u001b[49m\u001b[43m=\u001b[49m\u001b[43mstic_test_set\u001b[49m\u001b[43m,\u001b[49m\u001b[43m \u001b[49m\u001b[43mconfig\u001b[49m\u001b[43m=\u001b[49m\u001b[43mconfig\u001b[49m\u001b[43m)\u001b[49m\n",
      "\u001b[36mFile \u001b[39m\u001b[32m~/Programming/STICkit/stickit/pipeline.py:102\u001b[39m, in \u001b[36mstic_generation\u001b[39m\u001b[34m(molecules, config)\u001b[39m\n\u001b[32m    100\u001b[39m     molecules = smiles_iter_from_file(cfg[\u001b[33m'\u001b[39m\u001b[33mio\u001b[39m\u001b[33m'\u001b[39m][\u001b[33m'\u001b[39m\u001b[33minput\u001b[39m\u001b[33m'\u001b[39m])\n\u001b[32m    101\u001b[39m work = \u001b[38;5;28mlist\u001b[39m(molecules)\n\u001b[32m--> \u001b[39m\u001b[32m102\u001b[39m results = \u001b[43mparallel_map\u001b[49m\u001b[43m(\u001b[49m\u001b[38;5;28;43;01mlambda\u001b[39;49;00m\u001b[43m \u001b[49m\u001b[43mpair\u001b[49m\u001b[43m:\u001b[49m\u001b[43m \u001b[49m\u001b[43m_single_parent\u001b[49m\u001b[43m(\u001b[49m\u001b[43mpair\u001b[49m\u001b[43m[\u001b[49m\u001b[32;43m0\u001b[39;49m\u001b[43m]\u001b[49m\u001b[43m,\u001b[49m\u001b[43m \u001b[49m\u001b[43mpair\u001b[49m\u001b[43m[\u001b[49m\u001b[32;43m1\u001b[39;49m\u001b[43m]\u001b[49m\u001b[43m,\u001b[49m\u001b[43m \u001b[49m\u001b[43mcfg\u001b[49m\u001b[43m)\u001b[49m\u001b[43m,\u001b[49m\u001b[43m \u001b[49m\u001b[43mwork\u001b[49m\u001b[43m,\u001b[49m\u001b[43m \u001b[49m\u001b[43mcfg\u001b[49m\u001b[43m[\u001b[49m\u001b[33;43m'\u001b[39;49m\u001b[33;43mparallel\u001b[39;49m\u001b[33;43m'\u001b[39;49m\u001b[43m]\u001b[49m\u001b[43m)\u001b[49m\n\u001b[32m    103\u001b[39m sticsets = [r \u001b[38;5;28;01mfor\u001b[39;00m r \u001b[38;5;129;01min\u001b[39;00m results \u001b[38;5;28;01mif\u001b[39;00m r \u001b[38;5;129;01mis\u001b[39;00m \u001b[38;5;129;01mnot\u001b[39;00m \u001b[38;5;28;01mNone\u001b[39;00m]\n\u001b[32m    104\u001b[39m dump_outputs(sticsets, cfg)\n",
      "\u001b[36mFile \u001b[39m\u001b[32m~/Programming/STICkit/stickit/utils.py:72\u001b[39m, in \u001b[36mparallel_map\u001b[39m\u001b[34m(func, items, parallel_cfg)\u001b[39m\n\u001b[32m     70\u001b[39m         futs = [ex.submit(func, it) \u001b[38;5;28;01mfor\u001b[39;00m it \u001b[38;5;129;01min\u001b[39;00m items]\n\u001b[32m     71\u001b[39m         \u001b[38;5;28;01mfor\u001b[39;00m f \u001b[38;5;129;01min\u001b[39;00m as_completed(futs):\n\u001b[32m---> \u001b[39m\u001b[32m72\u001b[39m             out.append(\u001b[43mf\u001b[49m\u001b[43m.\u001b[49m\u001b[43mresult\u001b[49m\u001b[43m(\u001b[49m\u001b[43m)\u001b[49m)\n\u001b[32m     73\u001b[39m     \u001b[38;5;28;01mreturn\u001b[39;00m out\n\u001b[32m     74\u001b[39m \u001b[38;5;28;01melse\u001b[39;00m:\n",
      "\u001b[36mFile \u001b[39m\u001b[32m/usr/lib/python3.11/concurrent/futures/_base.py:449\u001b[39m, in \u001b[36mFuture.result\u001b[39m\u001b[34m(self, timeout)\u001b[39m\n\u001b[32m    447\u001b[39m     \u001b[38;5;28;01mraise\u001b[39;00m CancelledError()\n\u001b[32m    448\u001b[39m \u001b[38;5;28;01melif\u001b[39;00m \u001b[38;5;28mself\u001b[39m._state == FINISHED:\n\u001b[32m--> \u001b[39m\u001b[32m449\u001b[39m     \u001b[38;5;28;01mreturn\u001b[39;00m \u001b[38;5;28;43mself\u001b[39;49m\u001b[43m.\u001b[49m\u001b[43m__get_result\u001b[49m\u001b[43m(\u001b[49m\u001b[43m)\u001b[49m\n\u001b[32m    451\u001b[39m \u001b[38;5;28mself\u001b[39m._condition.wait(timeout)\n\u001b[32m    453\u001b[39m \u001b[38;5;28;01mif\u001b[39;00m \u001b[38;5;28mself\u001b[39m._state \u001b[38;5;129;01min\u001b[39;00m [CANCELLED, CANCELLED_AND_NOTIFIED]:\n",
      "\u001b[36mFile \u001b[39m\u001b[32m/usr/lib/python3.11/concurrent/futures/_base.py:401\u001b[39m, in \u001b[36mFuture.__get_result\u001b[39m\u001b[34m(self)\u001b[39m\n\u001b[32m    399\u001b[39m \u001b[38;5;28;01mif\u001b[39;00m \u001b[38;5;28mself\u001b[39m._exception:\n\u001b[32m    400\u001b[39m     \u001b[38;5;28;01mtry\u001b[39;00m:\n\u001b[32m--> \u001b[39m\u001b[32m401\u001b[39m         \u001b[38;5;28;01mraise\u001b[39;00m \u001b[38;5;28mself\u001b[39m._exception\n\u001b[32m    402\u001b[39m     \u001b[38;5;28;01mfinally\u001b[39;00m:\n\u001b[32m    403\u001b[39m         \u001b[38;5;66;03m# Break a reference cycle with the exception in self._exception\u001b[39;00m\n\u001b[32m    404\u001b[39m         \u001b[38;5;28mself\u001b[39m = \u001b[38;5;28;01mNone\u001b[39;00m\n",
      "\u001b[36mFile \u001b[39m\u001b[32m/usr/lib/python3.11/multiprocessing/queues.py:244\u001b[39m, in \u001b[36mQueue._feed\u001b[39m\u001b[34m(buffer, notempty, send_bytes, writelock, reader_close, writer_close, ignore_epipe, onerror, queue_sem)\u001b[39m\n\u001b[32m    241\u001b[39m     \u001b[38;5;28;01mreturn\u001b[39;00m\n\u001b[32m    243\u001b[39m \u001b[38;5;66;03m# serialize the data before acquiring the lock\u001b[39;00m\n\u001b[32m--> \u001b[39m\u001b[32m244\u001b[39m obj = \u001b[43m_ForkingPickler\u001b[49m\u001b[43m.\u001b[49m\u001b[43mdumps\u001b[49m\u001b[43m(\u001b[49m\u001b[43mobj\u001b[49m\u001b[43m)\u001b[49m\n\u001b[32m    245\u001b[39m \u001b[38;5;28;01mif\u001b[39;00m wacquire \u001b[38;5;129;01mis\u001b[39;00m \u001b[38;5;28;01mNone\u001b[39;00m:\n\u001b[32m    246\u001b[39m     send_bytes(obj)\n",
      "\u001b[36mFile \u001b[39m\u001b[32m/usr/lib/python3.11/multiprocessing/reduction.py:51\u001b[39m, in \u001b[36mForkingPickler.dumps\u001b[39m\u001b[34m(cls, obj, protocol)\u001b[39m\n\u001b[32m     48\u001b[39m \u001b[38;5;129m@classmethod\u001b[39m\n\u001b[32m     49\u001b[39m \u001b[38;5;28;01mdef\u001b[39;00m\u001b[38;5;250m \u001b[39m\u001b[34mdumps\u001b[39m(\u001b[38;5;28mcls\u001b[39m, obj, protocol=\u001b[38;5;28;01mNone\u001b[39;00m):\n\u001b[32m     50\u001b[39m     buf = io.BytesIO()\n\u001b[32m---> \u001b[39m\u001b[32m51\u001b[39m     \u001b[38;5;28;43mcls\u001b[39;49m\u001b[43m(\u001b[49m\u001b[43mbuf\u001b[49m\u001b[43m,\u001b[49m\u001b[43m \u001b[49m\u001b[43mprotocol\u001b[49m\u001b[43m)\u001b[49m\u001b[43m.\u001b[49m\u001b[43mdump\u001b[49m\u001b[43m(\u001b[49m\u001b[43mobj\u001b[49m\u001b[43m)\u001b[49m\n\u001b[32m     52\u001b[39m     \u001b[38;5;28;01mreturn\u001b[39;00m buf.getbuffer()\n",
      "\u001b[31mAttributeError\u001b[39m: Can't pickle local object 'stic_generation.<locals>.<lambda>'"
     ]
    }
   ],
   "source": [
    "result = stic_generation(molecules=stic_test_set, config=config)"
   ]
  },
  {
   "cell_type": "code",
   "execution_count": null,
   "id": "6d82c1ad-d7cd-49b2-af9c-c0a0ab222bef",
   "metadata": {},
   "outputs": [],
   "source": []
  }
 ],
 "metadata": {
  "kernelspec": {
   "display_name": "Python 3 (ipykernel)",
   "language": "python",
   "name": "python3"
  },
  "language_info": {
   "codemirror_mode": {
    "name": "ipython",
    "version": 3
   },
   "file_extension": ".py",
   "mimetype": "text/x-python",
   "name": "python",
   "nbconvert_exporter": "python",
   "pygments_lexer": "ipython3",
   "version": "3.11.13"
  },
  "widgets": {
   "application/vnd.jupyter.widget-state+json": {
    "state": {},
    "version_major": 2,
    "version_minor": 0
   }
  }
 },
 "nbformat": 4,
 "nbformat_minor": 5
}
